{
  "nbformat": 4,
  "nbformat_minor": 0,
  "metadata": {
    "colab": {
      "provenance": [],
      "authorship_tag": "ABX9TyN/ZjPnsW4Xo+qaR3E7GqAK",
      "include_colab_link": true
    },
    "kernelspec": {
      "name": "python3",
      "display_name": "Python 3"
    },
    "language_info": {
      "name": "python"
    }
  },
  "cells": [
    {
      "cell_type": "markdown",
      "metadata": {
        "id": "view-in-github",
        "colab_type": "text"
      },
      "source": [
        "<a href=\"https://colab.research.google.com/github/HTS05/Numpy_practice/blob/main/Numpy_Assignment.ipynb\" target=\"_parent\"><img src=\"https://colab.research.google.com/assets/colab-badge.svg\" alt=\"Open In Colab\"/></a>"
      ]
    },
    {
      "cell_type": "code",
      "source": [
        "# Create a 5×5 matrix with values 1,2,3,…,25\n",
        "import numpy as np\n",
        "np.arange(1, 26).reshape(5, 5)"
      ],
      "metadata": {
        "colab": {
          "base_uri": "https://localhost:8080/"
        },
        "id": "qk70c0iaV_VH",
        "outputId": "046d9ccb-04c4-4810-dea7-d1c8cfd69bad"
      },
      "execution_count": null,
      "outputs": [
        {
          "output_type": "execute_result",
          "data": {
            "text/plain": [
              "array([[ 1,  2,  3,  4,  5],\n",
              "       [ 6,  7,  8,  9, 10],\n",
              "       [11, 12, 13, 14, 15],\n",
              "       [16, 17, 18, 19, 20],\n",
              "       [21, 22, 23, 24, 25]])"
            ]
          },
          "metadata": {},
          "execution_count": 2
        }
      ]
    },
    {
      "cell_type": "code",
      "source": [
        "# Generate a 4×4 identity matrix using NumPy\n",
        "np.identity(4)"
      ],
      "metadata": {
        "colab": {
          "base_uri": "https://localhost:8080/"
        },
        "id": "b28LddOMWOhn",
        "outputId": "1187ad22-0747-480a-b2d4-baa2a7149e2f"
      },
      "execution_count": null,
      "outputs": [
        {
          "output_type": "execute_result",
          "data": {
            "text/plain": [
              "array([[1., 0., 0., 0.],\n",
              "       [0., 1., 0., 0.],\n",
              "       [0., 0., 1., 0.],\n",
              "       [0., 0., 0., 1.]])"
            ]
          },
          "metadata": {},
          "execution_count": 6
        }
      ]
    },
    {
      "cell_type": "code",
      "source": [
        "# Create a 1D array of numbers from 100 to 200 with step size 10\n",
        "np.arange(100, 201, 10)"
      ],
      "metadata": {
        "colab": {
          "base_uri": "https://localhost:8080/"
        },
        "id": "a1C1TXomWqf7",
        "outputId": "21b98fc4-796c-41d3-c1c4-4e42fe8905ba"
      },
      "execution_count": null,
      "outputs": [
        {
          "output_type": "execute_result",
          "data": {
            "text/plain": [
              "array([100, 110, 120, 130, 140, 150, 160, 170, 180, 190, 200])"
            ]
          },
          "metadata": {},
          "execution_count": 7
        }
      ]
    },
    {
      "cell_type": "code",
      "source": [
        "# Generate a random 3×3 matrix and find its determinant\n",
        "a = np.random.rand(3,3)\n",
        "print(a)\n",
        "np.linalg.det(a)"
      ],
      "metadata": {
        "colab": {
          "base_uri": "https://localhost:8080/"
        },
        "id": "o6cPipv5WzzL",
        "outputId": "436e335f-5461-409c-9be1-b137e1403f4a"
      },
      "execution_count": null,
      "outputs": [
        {
          "output_type": "stream",
          "name": "stdout",
          "text": [
            "[[0.24564394 0.21587466 0.1298096 ]\n",
            " [0.21368494 0.50322482 0.92135104]\n",
            " [0.04259309 0.43466761 0.20076052]]\n"
          ]
        },
        {
          "output_type": "execute_result",
          "data": {
            "text/plain": [
              "np.float64(-0.06507366870551107)"
            ]
          },
          "metadata": {},
          "execution_count": 8
        }
      ]
    },
    {
      "cell_type": "code",
      "source": [
        "# Create a NumPy array of 10 random integers between 1 and 100\n",
        "np.random.randint(1, 101, 10)"
      ],
      "metadata": {
        "colab": {
          "base_uri": "https://localhost:8080/"
        },
        "id": "g5y3Ntt5W29W",
        "outputId": "59a057a9-65f9-4680-864c-2b031f3d5721"
      },
      "execution_count": null,
      "outputs": [
        {
          "output_type": "execute_result",
          "data": {
            "text/plain": [
              "array([61, 60, 30, 31,  8, 43, 94, 59, 21,  7])"
            ]
          },
          "metadata": {},
          "execution_count": 9
        }
      ]
    },
    {
      "cell_type": "code",
      "source": [
        "# Reshape a 1D array of size 12 into a 3×4 matrix\n",
        "np.arange(1,13).reshape(3,4)"
      ],
      "metadata": {
        "colab": {
          "base_uri": "https://localhost:8080/"
        },
        "id": "UtuRjEnZYFIv",
        "outputId": "a1c660da-a5a0-47f2-bfdd-c6dd1e9543c2"
      },
      "execution_count": null,
      "outputs": [
        {
          "output_type": "execute_result",
          "data": {
            "text/plain": [
              "array([[ 1,  2,  3,  4],\n",
              "       [ 5,  6,  7,  8],\n",
              "       [ 9, 10, 11, 12]])"
            ]
          },
          "metadata": {},
          "execution_count": 4
        }
      ]
    },
    {
      "cell_type": "code",
      "source": [
        "# Create two 3×3 matrices and perform matrix multiplication\n",
        "m1 = np.random.randint(1,10,(3,3))\n",
        "m2 = np.random.randint(1,10,(3,3))\n",
        "m1 @ m2"
      ],
      "metadata": {
        "colab": {
          "base_uri": "https://localhost:8080/"
        },
        "id": "2WEZ3eS4YIz5",
        "outputId": "8c940a7a-2d35-4bf6-83a4-0715741ed4f2"
      },
      "execution_count": null,
      "outputs": [
        {
          "output_type": "execute_result",
          "data": {
            "text/plain": [
              "array([[ 67, 120, 114],\n",
              "       [ 32,  40,  28],\n",
              "       [ 67, 113, 119]])"
            ]
          },
          "metadata": {},
          "execution_count": 5
        }
      ]
    },
    {
      "cell_type": "code",
      "source": [
        "# Find eigenvalues and eigenvectors of a given 2×2 matrix\n",
        "m = np.array([[4, -2],[1,1]])\n",
        "np.linalg.eig(m)"
      ],
      "metadata": {
        "colab": {
          "base_uri": "https://localhost:8080/"
        },
        "id": "kISy_I-wYNEz",
        "outputId": "ac13f1b0-8ee7-4fcf-e8a7-ee8325234d73"
      },
      "execution_count": null,
      "outputs": [
        {
          "output_type": "execute_result",
          "data": {
            "text/plain": [
              "EigResult(eigenvalues=array([3., 2.]), eigenvectors=array([[0.89442719, 0.70710678],\n",
              "       [0.4472136 , 0.70710678]]))"
            ]
          },
          "metadata": {},
          "execution_count": 6
        }
      ]
    },
    {
      "cell_type": "code",
      "source": [
        "#  Create a 5×5 matrix with random values and extract its diagonal elements\n",
        "m = np.random.rand(5,5)\n",
        "np.diag(m)"
      ],
      "metadata": {
        "colab": {
          "base_uri": "https://localhost:8080/"
        },
        "id": "e_NL8ZqwYRw0",
        "outputId": "ddd6fca0-470d-4c72-fb4c-697becca061b"
      },
      "execution_count": null,
      "outputs": [
        {
          "output_type": "execute_result",
          "data": {
            "text/plain": [
              "array([0.31740044, 0.58788544, 0.77732135, 0.82343137, 0.28176898])"
            ]
          },
          "metadata": {},
          "execution_count": 7
        }
      ]
    },
    {
      "cell_type": "code",
      "source": [
        "# Generate a 1D array and normalize it (scale values between 0 and 1)\n",
        "arr = np.array([10,20,30,40,50])\n",
        "(arr - arr.min())/(arr.max()-arr.min())"
      ],
      "metadata": {
        "colab": {
          "base_uri": "https://localhost:8080/"
        },
        "id": "Mafy5wScYTS6",
        "outputId": "7a10d59f-34f2-4e5f-de05-cf3e64b00164"
      },
      "execution_count": null,
      "outputs": [
        {
          "output_type": "execute_result",
          "data": {
            "text/plain": [
              "array([0.  , 0.25, 0.5 , 0.75, 1.  ])"
            ]
          },
          "metadata": {},
          "execution_count": 8
        }
      ]
    },
    {
      "cell_type": "code",
      "source": [
        "# Write a program to sort a NumPy array by row and column\n",
        "arr = np.random.randint(1, 100, (3, 3))\n",
        "print(\"Original:\\n\", arr)\n",
        "print(\"Row-wise sort:\\n\", np.sort(arr, axis=1))\n",
        "print(\"Column-wise sort:\\n\", np.sort(arr, axis=0))"
      ],
      "metadata": {
        "colab": {
          "base_uri": "https://localhost:8080/"
        },
        "id": "8OGtYofBYgvF",
        "outputId": "60006ae0-71d3-49e6-a58b-9f40f6cc8644"
      },
      "execution_count": null,
      "outputs": [
        {
          "output_type": "stream",
          "name": "stdout",
          "text": [
            "Original:\n",
            " [[44 82 52]\n",
            " [73 11 20]\n",
            " [28 38 76]]\n",
            "Row-wise sort:\n",
            " [[44 52 82]\n",
            " [11 20 73]\n",
            " [28 38 76]]\n",
            "Column-wise sort:\n",
            " [[28 11 20]\n",
            " [44 38 52]\n",
            " [73 82 76]]\n"
          ]
        }
      ]
    },
    {
      "cell_type": "code",
      "source": [
        "# Find the indices of maximum and minimum values in a NumPy array\n",
        "arr = np.random.randint(1, 100, 10)\n",
        "print(\"Array:\", arr)\n",
        "print(\"Max index:\", arr.argmax())\n",
        "print(\"Min index:\", arr.argmin())"
      ],
      "metadata": {
        "colab": {
          "base_uri": "https://localhost:8080/"
        },
        "id": "PE_rO1oMY3zw",
        "outputId": "565e5d23-a4cf-4328-c3cf-fa595bf9eaca"
      },
      "execution_count": null,
      "outputs": [
        {
          "output_type": "stream",
          "name": "stdout",
          "text": [
            "Array: [61 54 98 70 70 74 83 80 82 75]\n",
            "Max index: 2\n",
            "Min index: 1\n"
          ]
        }
      ]
    },
    {
      "cell_type": "code",
      "source": [
        "# Create a 2D array and flatten it using ravel() and flatten()\n",
        "m= np.array([[1, 2], [3, 4]])\n",
        "print(\"Using ravel:\", m.ravel())\n",
        "print(\"Using flatten:\", m.flatten())"
      ],
      "metadata": {
        "colab": {
          "base_uri": "https://localhost:8080/"
        },
        "id": "5hUsp4D8aPSB",
        "outputId": "aa8ce21f-6382-4284-d6d7-94c1d56ac33d"
      },
      "execution_count": null,
      "outputs": [
        {
          "output_type": "stream",
          "name": "stdout",
          "text": [
            "Using ravel: [1 2 3 4]\n",
            "Using flatten: [1 2 3 4]\n"
          ]
        }
      ]
    },
    {
      "cell_type": "code",
      "source": [
        "# Create a 3×3 matrix and compute its inverse using NumPy\n",
        "m= np.random.rand(3, 3)\n",
        "print(\"Matrix:\\n\", m)\n",
        "print(\"Inverse:\\n\", np.linalg.inv(m))"
      ],
      "metadata": {
        "colab": {
          "base_uri": "https://localhost:8080/"
        },
        "id": "pWegOtKBa3PW",
        "outputId": "ee346bdb-0c77-4b03-dbaa-305b6819b4d8"
      },
      "execution_count": null,
      "outputs": [
        {
          "output_type": "stream",
          "name": "stdout",
          "text": [
            "Matrix:\n",
            " [[0.42175735 0.46418269 0.13469626]\n",
            " [0.589371   0.77411317 0.13272713]\n",
            " [0.90056918 0.96319465 0.14088708]]\n",
            "Inverse:\n",
            " [[ 2.23082289 -7.64312418  5.06765041]\n",
            " [-4.33527283  7.35111003 -2.78057248]\n",
            " [15.37899173 -1.40103529 -6.28543962]]\n"
          ]
        }
      ]
    },
    {
      "cell_type": "code",
      "source": [
        "# Write a NumPy program to generate a random permutation of numbers 1 to 10\n",
        "np.random.permutation(np.arange(1, 11))"
      ],
      "metadata": {
        "colab": {
          "base_uri": "https://localhost:8080/"
        },
        "id": "KNxNdwXiaX9h",
        "outputId": "a07c94e7-b082-4033-ca36-21486b3502b7"
      },
      "execution_count": null,
      "outputs": [
        {
          "output_type": "execute_result",
          "data": {
            "text/plain": [
              "array([ 5,  2,  1, 10,  8,  4,  6,  9,  3,  7])"
            ]
          },
          "metadata": {},
          "execution_count": 14
        }
      ]
    },
    {
      "cell_type": "code",
      "source": [
        "# Create a NumPy array with values from 0 to 20 and replace all even numbers with -1\n",
        "arr= np.arange(21)\n",
        "arr[arr % 2 == 0] = -1\n",
        "arr"
      ],
      "metadata": {
        "colab": {
          "base_uri": "https://localhost:8080/"
        },
        "id": "31A4zDAoagXp",
        "outputId": "600717a2-301b-4cba-efe7-1b56b9d56768"
      },
      "execution_count": null,
      "outputs": [
        {
          "output_type": "execute_result",
          "data": {
            "text/plain": [
              "array([-1,  1, -1,  3, -1,  5, -1,  7, -1,  9, -1, 11, -1, 13, -1, 15, -1,\n",
              "       17, -1, 19, -1])"
            ]
          },
          "metadata": {},
          "execution_count": 15
        }
      ]
    },
    {
      "cell_type": "code",
      "source": [
        "# Write a program to compute the dot product of two arrays\n",
        "a = np.array([1, 2, 3])\n",
        "b = np.array([4, 5, 6])\n",
        "np.dot(a, b)"
      ],
      "metadata": {
        "colab": {
          "base_uri": "https://localhost:8080/"
        },
        "id": "JnZkgvMFawSe",
        "outputId": "67acd2ce-25e5-497e-8cd4-039951367ace"
      },
      "execution_count": null,
      "outputs": [
        {
          "output_type": "execute_result",
          "data": {
            "text/plain": [
              "np.int64(32)"
            ]
          },
          "metadata": {},
          "execution_count": 17
        }
      ]
    },
    {
      "cell_type": "code",
      "source": [
        "# Generate a 5×5 random matrix and compute its trace\n",
        "m= np.random.rand(5, 5)\n",
        "print(\"Matrix:\\n\", m)\n",
        "print(\"Trace:\", np.trace(m))"
      ],
      "metadata": {
        "colab": {
          "base_uri": "https://localhost:8080/"
        },
        "id": "ukNcDp7cbLYa",
        "outputId": "d4d668bb-e3d7-4670-ce49-ddacf42fd744"
      },
      "execution_count": null,
      "outputs": [
        {
          "output_type": "stream",
          "name": "stdout",
          "text": [
            "Matrix:\n",
            " [[0.61042254 0.14609345 0.99368682 0.65463388 0.40062635]\n",
            " [0.53885753 0.03107034 0.18604698 0.12102588 0.66020264]\n",
            " [0.50292422 0.36047861 0.83002838 0.15586944 0.53869068]\n",
            " [0.6465685  0.84480026 0.02669695 0.92628411 0.48105944]\n",
            " [0.70839615 0.0863291  0.11769503 0.46531272 0.46314327]]\n",
            "Trace: 2.8609486321597237\n"
          ]
        }
      ]
    },
    {
      "cell_type": "code",
      "source": [
        "# Write a NumPy program to split a 1D array into 3 equal parts\n",
        "arr= np.arange(9)\n",
        "np.split(arr, 3)"
      ],
      "metadata": {
        "colab": {
          "base_uri": "https://localhost:8080/"
        },
        "id": "jewxQuPgbPSa",
        "outputId": "d26f4de9-419c-4024-a480-243d15270dd5"
      },
      "execution_count": null,
      "outputs": [
        {
          "output_type": "execute_result",
          "data": {
            "text/plain": [
              "[array([0, 1, 2]), array([3, 4, 5]), array([6, 7, 8])]"
            ]
          },
          "metadata": {},
          "execution_count": 19
        }
      ]
    },
    {
      "cell_type": "code",
      "source": [
        "#  Create a 3D array of shape (3,3,3) and find its mean across axis=0\n",
        "m = np.random.rand(3, 3, 3)\n",
        "m.mean(axis=0)"
      ],
      "metadata": {
        "colab": {
          "base_uri": "https://localhost:8080/"
        },
        "id": "a6qJnkHHba40",
        "outputId": "7f90ee00-ef31-4c4b-8e70-0bcefad7e54b"
      },
      "execution_count": null,
      "outputs": [
        {
          "output_type": "execute_result",
          "data": {
            "text/plain": [
              "array([[0.36809425, 0.51812882, 0.58461402],\n",
              "       [0.4016052 , 0.27760183, 0.49576823],\n",
              "       [0.54881804, 0.49505999, 0.20253961]])"
            ]
          },
          "metadata": {},
          "execution_count": 20
        }
      ]
    },
    {
      "cell_type": "code",
      "source": [
        "#  Write a program to find the cumulative sum of a NumPy array\n",
        "arr = np.array([1, 2, 3, 4, 5])\n",
        "np.cumsum(arr)"
      ],
      "metadata": {
        "colab": {
          "base_uri": "https://localhost:8080/"
        },
        "id": "DoGUJG0reZrI",
        "outputId": "43bf408c-4053-49d2-ebca-4dc86d6f3ef1"
      },
      "execution_count": null,
      "outputs": [
        {
          "output_type": "execute_result",
          "data": {
            "text/plain": [
              "array([ 1,  3,  6, 10, 15])"
            ]
          },
          "metadata": {},
          "execution_count": 22
        }
      ]
    },
    {
      "cell_type": "code",
      "source": [
        "# Create a 4×4 matrix with random integers and extract its upper triangular matrix\n",
        "m = np.random.randint(1, 10, (4, 4))\n",
        "print(\"Matrix:\\n\", m)\n",
        "print(\"Upper Triangular:\\n\", np.triu(m))"
      ],
      "metadata": {
        "colab": {
          "base_uri": "https://localhost:8080/"
        },
        "id": "nvhAeh8_eeIx",
        "outputId": "65fdd869-155f-481b-b294-0cd5076b7b99"
      },
      "execution_count": null,
      "outputs": [
        {
          "output_type": "stream",
          "name": "stdout",
          "text": [
            "Matrix:\n",
            " [[7 8 9 6]\n",
            " [8 5 1 3]\n",
            " [1 9 1 5]\n",
            " [6 8 8 1]]\n",
            "Upper Triangular:\n",
            " [[7 8 9 6]\n",
            " [0 5 1 3]\n",
            " [0 0 1 5]\n",
            " [0 0 0 1]]\n"
          ]
        }
      ]
    },
    {
      "cell_type": "code",
      "source": [
        "#Write a program to generate a matrix of size 6×6 with checkerboard pattern (0,1)\n",
        "checker = np.indices((6, 6)).sum(axis=0) % 2\n",
        "checker"
      ],
      "metadata": {
        "colab": {
          "base_uri": "https://localhost:8080/"
        },
        "id": "C-K7Hopwe1q9",
        "outputId": "06af8886-5b5e-4dc7-dfbf-f166c2784cc5"
      },
      "execution_count": null,
      "outputs": [
        {
          "output_type": "execute_result",
          "data": {
            "text/plain": [
              "array([[0, 1, 0, 1, 0, 1],\n",
              "       [1, 0, 1, 0, 1, 0],\n",
              "       [0, 1, 0, 1, 0, 1],\n",
              "       [1, 0, 1, 0, 1, 0],\n",
              "       [0, 1, 0, 1, 0, 1],\n",
              "       [1, 0, 1, 0, 1, 0]])"
            ]
          },
          "metadata": {},
          "execution_count": 25
        }
      ]
    },
    {
      "cell_type": "code",
      "source": [
        "# Generate a 3×3 random matrix and apply element-wise square root\n",
        "m = np.random.rand(3, 3)\n",
        "np.sqrt(m)"
      ],
      "metadata": {
        "colab": {
          "base_uri": "https://localhost:8080/"
        },
        "id": "rs4Q-GvFe74U",
        "outputId": "034893f4-87e4-4698-afc0-bee6a637ae06"
      },
      "execution_count": null,
      "outputs": [
        {
          "output_type": "execute_result",
          "data": {
            "text/plain": [
              "array([[0.99413455, 0.36091205, 0.66398827],\n",
              "       [0.48551258, 0.72764249, 0.89360515],\n",
              "       [0.83622544, 0.83433259, 0.87284695]])"
            ]
          },
          "metadata": {},
          "execution_count": 26
        }
      ]
    },
    {
      "cell_type": "code",
      "source": [
        "# Create a 1D array of 20 elements and reverse it without using Python slicing\n",
        "arr= np.arange(20)\n",
        "np.flip(arr)"
      ],
      "metadata": {
        "colab": {
          "base_uri": "https://localhost:8080/"
        },
        "id": "7yO7btJ7fBNt",
        "outputId": "12016ee8-a55c-4b44-9655-3f7155616952"
      },
      "execution_count": null,
      "outputs": [
        {
          "output_type": "execute_result",
          "data": {
            "text/plain": [
              "array([19, 18, 17, 16, 15, 14, 13, 12, 11, 10,  9,  8,  7,  6,  5,  4,  3,\n",
              "        2,  1,  0])"
            ]
          },
          "metadata": {},
          "execution_count": 27
        }
      ]
    },
    {
      "cell_type": "code",
      "source": [
        "# Write a program to merge two NumPy arrays vertically and horizontally\n",
        "a = np.array([[1, 2], [3, 4]])\n",
        "b = np.array([[5, 6], [7, 8]])\n",
        "print(\"Vertical:\\n\", np.vstack((a, b)))\n",
        "print(\"Horizontal:\\n\", np.hstack((a, b)))"
      ],
      "metadata": {
        "colab": {
          "base_uri": "https://localhost:8080/"
        },
        "id": "EdIOReyqfGtj",
        "outputId": "c83c1b01-0b75-4872-9d7b-334d8c189227"
      },
      "execution_count": null,
      "outputs": [
        {
          "output_type": "stream",
          "name": "stdout",
          "text": [
            "Vertical:\n",
            " [[1 2]\n",
            " [3 4]\n",
            " [5 6]\n",
            " [7 8]]\n",
            "Horizontal:\n",
            " [[1 2 5 6]\n",
            " [3 4 7 8]]\n"
          ]
        }
      ]
    },
    {
      "cell_type": "code",
      "source": [
        "#Create a 2D NumPy array and compute row-wise and column-wise sum\n",
        "m = np.arange(1, 10).reshape(3, 3)\n",
        "print(\"Row-wise sum:\", m.sum(axis=1))\n",
        "print(\"Column-wise sum:\", m.sum(axis=0))"
      ],
      "metadata": {
        "colab": {
          "base_uri": "https://localhost:8080/"
        },
        "id": "43JiQ0m8fR2C",
        "outputId": "a52bc93f-d3ae-43d2-a38f-3ebfdfcad564"
      },
      "execution_count": null,
      "outputs": [
        {
          "output_type": "stream",
          "name": "stdout",
          "text": [
            "Row-wise sum: [ 6 15 24]\n",
            "Column-wise sum: [12 15 18]\n"
          ]
        }
      ]
    },
    {
      "cell_type": "code",
      "source": [
        "#  Write a NumPy program to replace NaN values in an array with the mean of that column\n",
        "m= np.array([[1, np.nan, 3], [4, 5, np.nan]])\n",
        "col_means = np.nanmean(m, axis=0)\n",
        "inds = np.where(np.isnan(m))\n",
        "m[inds] = np.take(col_means, inds[1])\n",
        "m"
      ],
      "metadata": {
        "colab": {
          "base_uri": "https://localhost:8080/"
        },
        "id": "ZmnCKSshfa67",
        "outputId": "1109a681-899a-4e38-dfff-76e74404d2ae"
      },
      "execution_count": null,
      "outputs": [
        {
          "output_type": "execute_result",
          "data": {
            "text/plain": [
              "array([[1., 5., 3.],\n",
              "       [4., 5., 3.]])"
            ]
          },
          "metadata": {},
          "execution_count": 31
        }
      ]
    },
    {
      "cell_type": "code",
      "source": [
        "# Generate two 1D arrays and compute cosine similarity using NumPy\n",
        "x = np.array([1, 2, 3])\n",
        "y = np.array([4, 5, 6])\n",
        "cos_sim = np.dot(x, y) / (np.linalg.norm(x) * np.linalg.norm(y))\n",
        "cos_sim"
      ],
      "metadata": {
        "colab": {
          "base_uri": "https://localhost:8080/"
        },
        "id": "cFMNJ7XXfiDr",
        "outputId": "18209bf9-a797-4363-c288-9296abfc63b2"
      },
      "execution_count": null,
      "outputs": [
        {
          "output_type": "execute_result",
          "data": {
            "text/plain": [
              "np.float64(0.9746318461970762)"
            ]
          },
          "metadata": {},
          "execution_count": 32
        }
      ]
    },
    {
      "cell_type": "code",
      "source": [
        "# Create a 4×4 array and rotate it by 90 degrees using NumPy\n",
        "m = np.arange(16).reshape(4, 4)\n",
        "np.rot90(m)"
      ],
      "metadata": {
        "colab": {
          "base_uri": "https://localhost:8080/"
        },
        "id": "uvX0KAmzfl8T",
        "outputId": "5a30ecb4-edac-44d5-c1ea-482608db68ba"
      },
      "execution_count": null,
      "outputs": [
        {
          "output_type": "execute_result",
          "data": {
            "text/plain": [
              "array([[ 3,  7, 11, 15],\n",
              "       [ 2,  6, 10, 14],\n",
              "       [ 1,  5,  9, 13],\n",
              "       [ 0,  4,  8, 12]])"
            ]
          },
          "metadata": {},
          "execution_count": 33
        }
      ]
    },
    {
      "cell_type": "code",
      "source": [
        "# Write a program to create a structured NumPy array with fields (name, age, marks)\n",
        "dt = np.dtype([('name', 'U10'), ('age', 'i4'), ('marks', 'f4')])\n",
        "students = np.array([('Tony', 20, 85.5), ('Steve', 21, 90.0)], dtype=dt)\n",
        "students"
      ],
      "metadata": {
        "id": "85uvgEIaf1v6",
        "colab": {
          "base_uri": "https://localhost:8080/"
        },
        "outputId": "a826d913-c3ea-4dbb-dea4-0e56f6fd4972"
      },
      "execution_count": null,
      "outputs": [
        {
          "output_type": "execute_result",
          "data": {
            "text/plain": [
              "array([('Tony', 20, 85.5), ('Steve', 21, 90. )],\n",
              "      dtype=[('name', '<U10'), ('age', '<i4'), ('marks', '<f4')])"
            ]
          },
          "metadata": {},
          "execution_count": 3
        }
      ]
    },
    {
      "cell_type": "code",
      "source": [
        "# Generate a random 3×3 matrix and compute its rank\n",
        "m = np.random.rand(3, 3)\n",
        "np.linalg.matrix_rank(m)"
      ],
      "metadata": {
        "colab": {
          "base_uri": "https://localhost:8080/"
        },
        "id": "zBaNS7a9tMcz",
        "outputId": "f8e87979-0058-483f-f1cb-1f0d8a3eeb56"
      },
      "execution_count": null,
      "outputs": [
        {
          "output_type": "execute_result",
          "data": {
            "text/plain": [
              "np.int64(3)"
            ]
          },
          "metadata": {},
          "execution_count": 4
        }
      ]
    },
    {
      "cell_type": "code",
      "source": [
        "#  Create a 5×5 random matrix and normalize each row to have unit length\n",
        "m= np.random.rand(5, 5)\n",
        "row_norm = m / np.linalg.norm(m, axis=1, keepdims=True)\n",
        "row_norm"
      ],
      "metadata": {
        "colab": {
          "base_uri": "https://localhost:8080/"
        },
        "id": "Dtm8IIbjtVeK",
        "outputId": "bc5bfcb9-c4c0-43fe-e3b9-567ea3069dc1"
      },
      "execution_count": null,
      "outputs": [
        {
          "output_type": "execute_result",
          "data": {
            "text/plain": [
              "array([[0.74399927, 0.37728339, 0.01621207, 0.10861793, 0.54042729],\n",
              "       [0.39946187, 0.0593893 , 0.39957714, 0.41345747, 0.7115435 ],\n",
              "       [0.45389349, 0.76956635, 0.42868084, 0.03709183, 0.12886142],\n",
              "       [0.66194984, 0.170253  , 0.28101064, 0.61834245, 0.26743591],\n",
              "       [0.40093908, 0.53100094, 0.41492957, 0.3580112 , 0.50689969]])"
            ]
          },
          "metadata": {},
          "execution_count": 5
        }
      ]
    },
    {
      "cell_type": "code",
      "source": [
        "# Write a NumPy program to check whether two arrays are equal element-wise\n",
        "np.array_equal([1, 2, 3], [1, 2, 3])"
      ],
      "metadata": {
        "colab": {
          "base_uri": "https://localhost:8080/"
        },
        "id": "A5G2IXFTtbgX",
        "outputId": "c8cccfa7-6b5c-44fd-dc9d-7ad55ec8ff6c"
      },
      "execution_count": null,
      "outputs": [
        {
          "output_type": "execute_result",
          "data": {
            "text/plain": [
              "True"
            ]
          },
          "metadata": {},
          "execution_count": 6
        }
      ]
    },
    {
      "cell_type": "code",
      "source": [
        "# Generate a random dataset of 1000 numbers and compute histogram using NumPy\n",
        "data = np.random.randn(1000)\n",
        "hist, bins = np.histogram(data, bins=10)\n",
        "print(\"Histogram:\", hist)\n",
        "print(\"Bins:\", bins)"
      ],
      "metadata": {
        "colab": {
          "base_uri": "https://localhost:8080/"
        },
        "id": "iqAGL3Nhtfqv",
        "outputId": "36f9aca8-3336-4e48-a9dc-0ada974af6da"
      },
      "execution_count": null,
      "outputs": [
        {
          "output_type": "stream",
          "name": "stdout",
          "text": [
            "Histogram: [ 12  39 111 193 250 186 134  55  16   4]\n",
            "Bins: [-2.85095486 -2.2399869  -1.62901893 -1.01805096 -0.40708299  0.20388498\n",
            "  0.81485295  1.42582091  2.03678888  2.64775685  3.25872482]\n"
          ]
        }
      ]
    },
    {
      "cell_type": "code",
      "source": [
        "# Create a 2D array and apply broadcasting to add a 1D array\n",
        "m = np.array([[1, 2, 3], [4, 5, 6]])\n",
        "v = np.array([1, 0, 1])\n",
        "m + v"
      ],
      "metadata": {
        "colab": {
          "base_uri": "https://localhost:8080/"
        },
        "id": "2fEZJfXhtiN4",
        "outputId": "613eb891-6b3c-43bc-b03b-6a3685f2051e"
      },
      "execution_count": null,
      "outputs": [
        {
          "output_type": "execute_result",
          "data": {
            "text/plain": [
              "array([[2, 2, 4],\n",
              "       [5, 5, 7]])"
            ]
          },
          "metadata": {},
          "execution_count": 9
        }
      ]
    },
    {
      "cell_type": "code",
      "source": [
        "# Write a program to find unique values and their counts in a NumPy array\n",
        "arr= np.array([1, 2, 2, 3, 4, 4, 4])\n",
        "vals, counts = np.unique(arr, return_counts=True)\n",
        "print(\"Values:\", vals)\n",
        "print(\"Counts:\", counts)"
      ],
      "metadata": {
        "colab": {
          "base_uri": "https://localhost:8080/"
        },
        "id": "X_-GlcD8toXi",
        "outputId": "a4a4ae97-8bac-4381-de57-8832a9ebda01"
      },
      "execution_count": null,
      "outputs": [
        {
          "output_type": "stream",
          "name": "stdout",
          "text": [
            "Values: [1 2 3 4]\n",
            "Counts: [1 2 1 3]\n"
          ]
        }
      ]
    },
    {
      "cell_type": "code",
      "source": [
        "# Create two arrays and find Pearson correlation coefficient using NumPy\n",
        "x = np.array([1, 2, 3])\n",
        "y = np.array([4, 5, 6])\n",
        "np.corrcoef(x, y)[0, 1]"
      ],
      "metadata": {
        "colab": {
          "base_uri": "https://localhost:8080/"
        },
        "id": "84NyDpK2tsZy",
        "outputId": "072b1fd6-1431-4492-b92e-8d91a1ede269"
      },
      "execution_count": null,
      "outputs": [
        {
          "output_type": "execute_result",
          "data": {
            "text/plain": [
              "np.float64(1.0)"
            ]
          },
          "metadata": {},
          "execution_count": 11
        }
      ]
    },
    {
      "cell_type": "code",
      "source": [
        "# Write a NumPy program to compute numerical gradient of a 1D array\n",
        "arr = np.array([1, 2, 4, 7, 11])\n",
        "np.gradient(arr)"
      ],
      "metadata": {
        "colab": {
          "base_uri": "https://localhost:8080/"
        },
        "id": "TYROMYINtuEx",
        "outputId": "3412c10b-36f3-4618-9f4e-afa2201b3a9e"
      },
      "execution_count": null,
      "outputs": [
        {
          "output_type": "execute_result",
          "data": {
            "text/plain": [
              "array([1. , 1.5, 2.5, 3.5, 4. ])"
            ]
          },
          "metadata": {},
          "execution_count": 12
        }
      ]
    },
    {
      "cell_type": "code",
      "source": [
        "from google.colab import drive\n",
        "drive.mount('/content/drive')"
      ],
      "metadata": {
        "id": "d_e00r6tut-N"
      },
      "execution_count": null,
      "outputs": []
    },
    {
      "cell_type": "code",
      "source": [
        "#Generate a random 3×3 matrix and perform Singular Value Decomposition (SVD)\n",
        "m40 = np.random.rand(3, 3)\n",
        "U, S, V = np.linalg.svd(m40)\n",
        "print(\"U:\\n\", U)\n",
        "print(\"S:\", S)\n",
        "print(\"V:\\n\", V)"
      ],
      "metadata": {
        "id": "4N0A5G3Zt7LN",
        "outputId": "83435fbc-eeab-40e1-9a91-f33c06fe572d",
        "colab": {
          "base_uri": "https://localhost:8080/"
        }
      },
      "execution_count": null,
      "outputs": [
        {
          "output_type": "stream",
          "name": "stdout",
          "text": [
            "U:\n",
            " [[-0.41271262  0.81335855 -0.4100197 ]\n",
            " [-0.48478186 -0.57723701 -0.65710272]\n",
            " [-0.77113866 -0.07242447  0.63253447]]\n",
            "S: [1.71330284 0.60626894 0.43625089]\n",
            "V:\n",
            " [[-0.50553843 -0.40198239 -0.76344028]\n",
            " [ 0.17800647  0.81720725 -0.54816604]\n",
            " [ 0.84424202 -0.41301631 -0.3415742 ]]\n"
          ]
        }
      ]
    }
  ]
}